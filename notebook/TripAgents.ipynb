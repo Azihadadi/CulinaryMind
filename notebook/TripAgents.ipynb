{
  "nbformat": 4,
  "nbformat_minor": 0,
  "metadata": {
    "colab": {
      "provenance": []
    },
    "kernelspec": {
      "name": "python3",
      "display_name": "Python 3"
    },
    "language_info": {
      "name": "python"
    }
  },
  "cells": [
    {
      "cell_type": "code",
      "execution_count": 9,
      "metadata": {
        "id": "UAuC0l7WQsHG"
      },
      "outputs": [],
      "source": [
        "from langgraph.graph import StateGraph, END, START\n",
        "from langgraph.types import Send"
      ]
    },
    {
      "cell_type": "code",
      "source": [
        "from typing import TypedDict, Annotated, List, Literal\n",
        "from pydantic import BaseModel, Field\n",
        "import operator\n",
        "from pprint import pprint"
      ],
      "metadata": {
        "id": "T00pK1XAQulK"
      },
      "execution_count": 10,
      "outputs": []
    },
    {
      "cell_type": "code",
      "source": [
        "from IPython.display import Image, display"
      ],
      "metadata": {
        "id": "0t7pddqdQwaz"
      },
      "execution_count": 11,
      "outputs": []
    },
    {
      "cell_type": "code",
      "source": [
        "from langchain_openai import ChatOpenAI\n",
        "from langchain_community.chat_models import ChatOllama\n",
        "from langchain_core.prompts import ChatPromptTemplate\n",
        "\n",
        "# Initialize the language model - using gpt-4o-mini for cost-effective experimentation\n",
        "llm = ChatOpenAI(model=\"gpt-4o-mini\", temperature=0.7)\n"
      ],
      "metadata": {
        "id": "YO51Fs2SQyEs"
      },
      "execution_count": 16,
      "outputs": []
    },
    {
      "cell_type": "code",
      "source": [
        "# Travel destination schema\n",
        "class Destination(BaseModel):\n",
        "    name: str = Field(\n",
        "        description=\"Name of the travel destination (e.g., Paris, Tokyo, New York).\"\n",
        "    )\n",
        "    activities: List[str] = Field(\n",
        "        description=\"List of suggested activities or attractions at this destination.\"\n",
        "    )\n",
        "    region: str = Field(\n",
        "        description=\"Region or country of the destination (e.g., France, Japan, USA).\"\n",
        "    )\n",
        "\n",
        "class Destinations(BaseModel):\n",
        "    sections: List[Destination] = Field(\n",
        "        description=\"A list of destination sections with activities.\"\n",
        "    )"
      ],
      "metadata": {
        "id": "zclOhqKpQ0Ma"
      },
      "execution_count": 13,
      "outputs": []
    },
    {
      "cell_type": "code",
      "source": [
        "# Construct a prompt template for planning destinations\n",
        "destination_prompt = ChatPromptTemplate.from_messages([\n",
        "    (\n",
        "        \"system\",\n",
        "        \"You are an assistant that generates a structured travel plan.\\n\\n\"\n",
        "        \"The user wants to visit the following destinations: {destinations}\\n\\n\"\n",
        "        \"For each destination, return a section with:\\n\"\n",
        "        \"- the name of the destination\\n\"\n",
        "        \"- a comma-separated list of suggested activities or attractions\\n\"\n",
        "        \"- the region or country\"\n",
        "    )\n",
        "])"
      ],
      "metadata": {
        "id": "4xPMGvryQ2b5"
      },
      "execution_count": 14,
      "outputs": []
    },
    {
      "cell_type": "code",
      "source": [
        "# Use LCEL to pipe the prompt to an LLM with structured output of Destinations\n",
        "planner_pipe = destination_prompt | llm.with_structured_output(Destinations)"
      ],
      "metadata": {
        "id": "yccvUbp_SnAZ"
      },
      "execution_count": 17,
      "outputs": []
    },
    {
      "cell_type": "code",
      "source": [
        "class State(TypedDict):\n",
        "    destinations: str  # User input: list of destinations\n",
        "    sections: List[Destination] # Sections for each destination\n",
        "    completed_plan: Annotated[List[str], operator.add]  # Worker-generated travel guides\n",
        "    final_travel_guide: str  # Fully compiled travel guide"
      ],
      "metadata": {
        "id": "FESyW91gTkqC"
      },
      "execution_count": null,
      "outputs": []
    },
    {
      "cell_type": "code",
      "source": [
        "def orchestrator(state: State):\n",
        "    \"\"\"Orchestrator agent that generates a structured travel plan\"\"\"\n",
        "    destination_descriptions = planner_pipe.invoke({\"destinations\": state[\"destinations\"]})\n",
        "    return {\"sections\": destination_descriptions.sections}"
      ],
      "metadata": {
        "id": "J4pcqVD0Vilk"
      },
      "execution_count": null,
      "outputs": []
    },
    {
      "cell_type": "code",
      "source": [
        "# Travel Agent prompt\n",
        "travel_agent_prompt = ChatPromptTemplate.from_messages([\n",
        "    (\n",
        "        \"system\",\n",
        "        \"You are a world-class travel agent specialized in {region}.\\n\\n\"\n",
        "        \"Please introduce yourself briefly and present a detailed itinerary for: {name}.\\n\"\n",
        "        \"Your response should include:\\n\"\n",
        "        \"- Greeting with your name and expertise\\n\"\n",
        "        \"- List of activities with step-by-step recommendations\\n\"\n",
        "        \"- Any tips for travelers\\n\\n\"\n",
        "        \"Use the following activities: {activities}.\"\n",
        "    )\n",
        "])"
      ],
      "metadata": {
        "id": "KxCdaGqSXJfV"
      },
      "execution_count": null,
      "outputs": []
    },
    {
      "cell_type": "code",
      "source": [
        "travel_agent_pipe = travel_agent_prompt | llm"
      ],
      "metadata": {
        "id": "1LYF64BbXMAP"
      },
      "execution_count": null,
      "outputs": []
    },
    {
      "cell_type": "code",
      "source": [
        "class WorkerState(TypedDict):\n",
        "    section: Destination\n",
        "    completed_plan: Annotated[list, operator.add]"
      ],
      "metadata": {
        "id": "CMG0q1wwXgh7"
      },
      "execution_count": null,
      "outputs": []
    },
    {
      "cell_type": "code",
      "source": [
        "def assign_workers(state: State):\n",
        "    \"\"\"Assign a worker to each destination section\"\"\"\n",
        "    return [Send(\"travel_agent_worker\", {\"section\": s}) for s in state[\"sections\"]]"
      ],
      "metadata": {
        "id": "XPituu00YQ4g"
      },
      "execution_count": null,
      "outputs": []
    },
    {
      "cell_type": "code",
      "source": [
        "def travel_agent_worker(state: WorkerState):\n",
        "    \"\"\"Worker agent that generates itinerary for one destination\"\"\"\n",
        "    itinerary = travel_agent_pipe.invoke({\n",
        "        \"name\": state[\"section\"].name,\n",
        "        \"region\": state[\"section\"].region,\n",
        "        \"activities\": state[\"section\"].activities\n",
        "    })\n",
        "    return {\"completed_plan\": [itinerary.content]}"
      ],
      "metadata": {
        "id": "imoNy_iZYi4e"
      },
      "execution_count": null,
      "outputs": []
    },
    {
      "cell_type": "code",
      "source": [
        "def synthesizer(state: State):\n",
        "    \"\"\"Synthesizer agent to merge all travel sections\"\"\"\n",
        "    completed_sections = state[\"completed_plan\"]\n",
        "    full_guide = \"\\n\\n---\\n\\n\".join(completed_sections)\n",
        "    return {\"final_travel_guide\": full_guide}"
      ],
      "metadata": {
        "id": "XSW4xnH5ZEBl"
      },
      "execution_count": null,
      "outputs": []
    },
    {
      "cell_type": "code",
      "source": [
        "# Build the workflow\n",
        "orchestrator_worker_builder = StateGraph(State)\n",
        "\n",
        "# Add nodes\n",
        "orchestrator_worker_builder.add_node(\"orchestrator\", orchestrator)\n",
        "orchestrator_worker_builder.add_node(\"travel_agent_worker\", travel_agent_worker)\n",
        "orchestrator_worker_builder.add_node(\"synthesizer\", synthesizer)"
      ],
      "metadata": {
        "id": "rLqjmg3kZhcg"
      },
      "execution_count": null,
      "outputs": []
    },
    {
      "cell_type": "code",
      "source": [
        "# Add edges\n",
        "orchestrator_worker_builder.add_conditional_edges(\n",
        "    \"orchestrator\", assign_workers, [\"travel_agent_worker\"]"
      ],
      "metadata": {
        "id": "zv46WAkMZzBY"
      },
      "execution_count": null,
      "outputs": []
    },
    {
      "cell_type": "code",
      "source": [
        "orchestrator_worker_builder.add_edge(START, \"orchestrator\")\n",
        "orchestrator_worker_builder.add_edge(\"travel_agent_worker\", \"synthesizer\")\n",
        "orchestrator_worker_builder.add_edge(\"synthesizer\", END)"
      ],
      "metadata": {
        "id": "2YycYbBKZ-dI"
      },
      "execution_count": null,
      "outputs": []
    },
    {
      "cell_type": "code",
      "source": [
        "# Compile workflow\n",
        "orchestrator_worker = orchestrator_worker_builder.compile()"
      ],
      "metadata": {
        "id": "soJRPgpVaGSh"
      },
      "execution_count": null,
      "outputs": []
    },
    {
      "cell_type": "code",
      "source": [
        "# Display workflow\n",
        "display(Image(orchestrator_worker.get_graph().draw_mermaid_png()))"
      ],
      "metadata": {
        "id": "j1tRrFbPaYcq"
      },
      "execution_count": null,
      "outputs": []
    },
    {
      "cell_type": "code",
      "source": [
        "# Invoke the workflow with a string of destinations in a dict\n",
        "state = orchestrator_worker.invoke({\n",
        "    \"destinations\": \"Paris, Tokyo, and New York\"\n",
        "})\n",
        "\n",
        "# Print the final travel guide\n",
        "print(state[\"final_travel_guide\"])"
      ],
      "metadata": {
        "id": "inZ_QUb_bWru"
      },
      "execution_count": null,
      "outputs": []
    }
  ]
}